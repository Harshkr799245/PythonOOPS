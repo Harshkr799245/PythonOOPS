{
  "nbformat": 4,
  "nbformat_minor": 0,
  "metadata": {
    "colab": {
      "provenance": []
    },
    "kernelspec": {
      "name": "python3",
      "display_name": "Python 3"
    },
    "language_info": {
      "name": "python"
    }
  },
  "cells": [
    {
      "cell_type": "markdown",
      "source": [
        "# Python OOPs Questions"
      ],
      "metadata": {
        "id": "GU4xBhx2faom"
      }
    },
    {
      "cell_type": "markdown",
      "source": [
        "1. What is Object-Oriented Programming (OOP) ?\n",
        "  - OOP is a programming paradigm that organizes software design around objects—which bundle data (attributes) and behavior (methods) together. It promotes modularity, reusability, and scalability using key principles like Encapsulation, Inheritance, Abstraction, and Polymorphism.\n",
        "\n",
        "2.  What is a class in OOP ?\n",
        "  - A class is a blueprint for creating objects. It defines the attributes and behaviors the objects will have.\n",
        "\n",
        "<br>\n",
        "\n",
        "```\n",
        "  class Car:\n",
        "    def __init__(self, brand, color):\n",
        "        self.brand = brand\n",
        "        self.color = color\n",
        "```\n",
        "<br>\n",
        "3. What is an object in OOP ?\n",
        "\n",
        "  -  An object is an instance of a class. It represents a real-world entity with state and behavior.\n",
        " <br>\n",
        "\n",
        " ```\n",
        "    my_car = Car(\"Toyota\", \"Red\")\n",
        "    print(my_car.brand)  # Output: Toyota\n",
        " ```\n",
        "\n",
        "4.  What is the difference between abstraction and encapsulation ?\n",
        "  - Abstraction hides implementation details and shows only essential features (via abstract classes or interfaces).\n",
        "  - Encapsulation binds data and methods inside a class and restricts access using access modifiers (like private).\n",
        " <br>\n",
        "\n",
        "```\n",
        "# Encapsulation\n",
        "class BankAccount:\n",
        "    def __init__(self, balance):\n",
        "        self.__balance = balance  # private variable\n",
        "\n",
        "    def deposit(self, amount):\n",
        "        self.__balance += amount\n",
        "```\n",
        "```\n",
        "# Abstraction via Abstract Class\n",
        "from abc import ABC, abstractmethod\n",
        "\n",
        "class Shape(ABC):\n",
        "    @abstractmethod\n",
        "    def area(self):\n",
        "        pass\n",
        "```\n",
        "5. What are dunder methods in Python ?\n",
        "  - \"Dunder\" methods (double underscores) are special methods used to overload built-in operations like printing, adding, comparing, etc.\n",
        "\n",
        "Examples: `__init__`, `__str__`, `__add__`, `__len__`\n",
        "<br>\n",
        "```\n",
        "class Book:\n",
        "    def __init__(self, title):\n",
        "        self.title = title\n",
        "\n",
        "    def __str__(self):\n",
        "        return f\"Book: {self.title}\"\n",
        "\n",
        "print(Book(\"1984\"))  # Output: Book: 1984\n",
        "```\n",
        "6.  Explain the concept of inheritance in OOP ?\n",
        "  - Inheritance is a fundamental concept in object-oriented programming (OOP) that allows a class (called a child or derived class) to inherit attributes and methods from another class (called a parent or base class).\n",
        "  <br>  Ex:\n",
        "  \n",
        "```\n",
        "class Animal:\n",
        "    def speak(self):\n",
        "        return \"Sound\"\n",
        "\n",
        "class Dog(Animal):\n",
        "    def speak(self):\n",
        "        return \"Bark\"\n",
        "```\n",
        "\n",
        "7.  What is polymorphism in OOP ?\n",
        "  - In OOP, polymorphism refers to an object's capacity to assume several forms.\n",
        "Simply said, polymorphism enables us to carry out a single activity in a variety of ways.\n",
        "  - From the Greek words poly (many) and morphism (forms), we get polymorphism. Polymorphism is the capacity to assume several shapes.\n",
        "  <br>\n",
        "\n",
        "  ```\n",
        "  class Shape:\n",
        "    def area(self):\n",
        "        return \"Undefined\"\n",
        "\n",
        " class Rectangle(Shape):\n",
        "    def __init__(self, length, width):\n",
        "        self.length = length\n",
        "        self.width = width\n",
        "\n",
        "    def area(self):\n",
        "        return self.length * self.width\n",
        "\n",
        " class Circle(Shape):\n",
        "    def __init__(self, radius):\n",
        "        self.radius = radius\n",
        "\n",
        "    def area(self):\n",
        "        return 3.14 * self.radius ** 2\n",
        "\n",
        " shapes = [Rectangle(2, 3), Circle(5)]\n",
        " for shape in shapes:\n",
        "    print(f\"Area: {shape.area()}\")\n",
        "```\n",
        "\n",
        "8. How is encapsulation achieved in Python ?\n",
        "  - Encapsulation in Python is achieved by restricting access to attributes and methods within a class. This is accomplished through naming conventions, specifically by using single or double underscores as prefixes.\n",
        "  - Public members:\n",
        "These are accessible from anywhere, both inside and outside the class. They are declared without any underscores.\n",
        "  - Protected members:\n",
        "These are intended for internal use within the class and its subclasses. They are indicated by a single underscore prefix (e.g., `_attribute`). However, they can still be accessed from outside the class, but it's considered a convention not to do so.\n",
        "  - Private members:\n",
        "These are meant to be inaccessible from outside the class. They are denoted by a double underscore prefix (e.g., `__attribute`). Python implements name mangling for private members, making it difficult, but not impossible, to access them directly from outside the class.\n",
        "<br>\n",
        "\n",
        "```\n",
        "class MyClass:\n",
        "    def __init__(self):\n",
        "        self.public_attribute = \"Public\"\n",
        "        self._protected_attribute = \"Protected\"\n",
        "        self.__private_attribute = \"Private\"\n",
        "\n",
        "    def public_method(self):\n",
        "        return \"Public method\"\n",
        "\n",
        "    def _protected_method(self):\n",
        "        return \"Protected method\"\n",
        "\n",
        "    def __private_method(self):\n",
        "        return \"Private method\"\n",
        "\n",
        "obj = MyClass()\n",
        "\n",
        "print(obj.public_attribute)  # Output: Public\n",
        "print(obj._protected_attribute)  # Output: Protected (Accessing a protected member, not recommended)\n",
        "# print(obj.__private_attribute)  # This will raise an AttributeError\n",
        "\n",
        "print(obj.public_method())  # Output: Public method\n",
        "print(obj._protected_method())  # Output: Protected method (Accessing a protected method, not recommended)\n",
        "# print(obj.__private_method())  # This will raise an AttributeError\n",
        "```\n",
        "\n",
        "9. What is a constructor in Python ?\n",
        "  - A constructor in Python is a special method within a class that initializes the attributes of an object when the object is created. It is automatically called when an object of the class is instantiated. The constructor method is named `__init__`.\n",
        "  <br>\n",
        "\n",
        "```\n",
        "class Dog:\n",
        "    def __init__(self, name, breed):\n",
        "        self.name = name\n",
        "        self.breed = breed\n",
        "\n",
        "my_dog = Dog(\"Buddy\", \"Golden Retriever\")\n",
        "print(my_dog.name)\n",
        "print(my_dog.breed)\n",
        "```\n",
        "10. What are class and static methods in Python ?\n",
        "  - Class Methods:-Class methods are methods that are bound to the class and not the instance of the class. They can access or\n",
        "  modify class state that applies across all instances of the class. Class methods are defined using the\n",
        "  @classmethod decorator.\n",
        "  -Static Methods:- Static methods are methods that belong to the class and don't access or modify class or instance state. They\n",
        "  are defined using the @staticmethod decorator.\n",
        "\n",
        "  ```\n",
        "  class Example:\n",
        "    count = 0\n",
        "\n",
        "    @classmethod\n",
        "    def class_method(cls):\n",
        "        return cls.count\n",
        "\n",
        "    @staticmethod\n",
        "    def static_method():\n",
        "        return \"No access to class or instance\"\n",
        " ```       \n",
        "11. What is method overloading in Python ?\n",
        "  - Method overloading : Method overloading is the practice of invoking the same method more than\n",
        "once with different parameters. Method overloading is not supported by Python. Even if you overload the\n",
        "method, Python only takes into account the most recent definition. If you overload a method in Python, a\n",
        "TypeError will be raised.\n",
        "\n",
        "```\n",
        "# First product method.\n",
        "# Takes two argument and print their\n",
        "# product\n",
        "\n",
        "\n",
        "def product(a, b):\n",
        "    p = a * b\n",
        "    print(p)\n",
        "\n",
        "# Second product method\n",
        "# Takes three argument and print their\n",
        "# product\n",
        "\n",
        "\n",
        "def product(a, b, c):\n",
        "    p = a * b*c\n",
        "    print(p)\n",
        "\n",
        "# Uncommenting the below line shows an error\n",
        "# product(4, 5)\n",
        "\n",
        "\n",
        "# This line will call the second product method\n",
        "product(4, 5, 5)\n",
        "\n",
        "Output\n",
        "100\n",
        "```\n",
        "12. What is method overriding in OOP ?\n",
        "  - Method overriding : In Python, method overriding is the process of providing a different\n",
        "implementation for a method that is already defined in the superclass within a subclass. It enables the\n",
        "subclass to define its own version of a method with the same name and parameters as the method in the\n",
        "superclass. When a method is overridden, the subclass implements the method in its own way, which\n",
        "overrides the behaviour defined in the superclass. The subclass can then alter or expand the functionality of\n",
        "the inherited method.\n",
        "<BR>Ex:-\n",
        "\n",
        "```\n",
        "class Animal:\n",
        "    def speak(self):\n",
        "        print(\"Animal speaks\")\n",
        "\n",
        "class Dog(Animal):\n",
        "    def speak(self):\n",
        "        print(\"Dog barks\")\n",
        "\n",
        "d = Dog()\n",
        "d.speak()  # Output: Dog barks\n",
        "```\n",
        "13.  What is a property decorator in Python ?\n",
        "  - In Python, a property decorator is a built-in feature that allows methods to be accessed like attributes. It provides a way to encapsulate the logic for getting, setting, and deleting an attribute within a class, offering more control over attribute access and modification. The @property decorator is used to define the getter method, while the @attribute.setter and @attribute.deleter decorators are used to define the setter and deleter methods, respectively.\n",
        "\n",
        "```\n",
        "class MyClass:\n",
        "    def __init__(self, value):\n",
        "        self._value = value\n",
        "\n",
        "    @property\n",
        "    def value(self):\n",
        "        \"\"\"Getter method for the 'value' property.\"\"\"\n",
        "        print(\"Getting value...\")\n",
        "        return self._value\n",
        "\n",
        "    @value.setter\n",
        "    def value(self, new_value):\n",
        "        \"\"\"Setter method for the 'value' property.\"\"\"\n",
        "        print(\"Setting value...\")\n",
        "        self._value = new_value\n",
        "\n",
        "    @value.deleter\n",
        "    def value(self):\n",
        "        \"\"\"Deleter method for the 'value' property.\"\"\"\n",
        "        print(\"Deleting value...\")\n",
        "        del self._value\n",
        "```\n",
        "14.  Why is polymorphism important in OOP ?\n",
        "  - Polymorphism is crucial in Object-Oriented Programming (OOP) because it enables objects of different classes to be treated as objects of a common type, promoting code reuse and flexibility. This allows for dynamic method dispatch, where the method to be executed is determined at runtime, making the code more adaptable and extensible.\n",
        "\n",
        "15. What is an abstract class in Python ?\n",
        "  - An abstract class in Python is a class that cannot be instantiated directly and is designed to be subclassed by other classes. It serves as a blueprint, defining methods that subclasses must implement. Abstract classes are created using the abc (Abstract Base Classes) module and are useful for enforcing a common interface across a group of related classes.\n",
        "<br>EX:-\n",
        "\n",
        "        ```\n",
        "        from abc import ABC, abstractmethod\n",
        "        class Animal(ABC):\n",
        "            @abstractmethod\n",
        "            def sound(self): pass\n",
        "        ```\n",
        "16.  What are the advantages of OOP ?\n",
        "  - Modularity\n",
        "\n",
        "  - Reusability\n",
        "\n",
        "  - Scalability\n",
        "\n",
        "  - Maintainability\n",
        "\n",
        "  - Security and Data Integrity\n",
        "\n",
        "17. What is the difference between a class variable and an instance variable ?\n",
        "  -\n",
        "  \n",
        "  The key difference between a class variable (also known as a static variable) and an instance variable is their scope and how they are shared. Class variables are shared across all instances of a class, meaning they have only one copy regardless of how many objects are created from that class. Instance variables, on the other hand, are unique to each instance of the class, with each object having its own separate copy.\n",
        "\n",
        "18. What is multiple inheritance in Python?\n",
        "  - Multiple inheritance : One child class may inherit from several parent classes when there is multiple inheritance.\n",
        "\n",
        "```\n",
        "  class Mammal:\n",
        "    def mammal_info(self):\n",
        "        print(\"Mammals can give direct birth.\")\n",
        "\n",
        "class WingedAnimal:\n",
        "    def winged_animal_info(self):\n",
        "        print(\"Winged animals can flap.\")\n",
        "\n",
        "class Bat(Mammal, WingedAnimal):\n",
        "    pass\n",
        "\n",
        "# create an object of Bat class\n",
        "b1 = Bat()\n",
        "\n",
        "b1.mammal_info()\n",
        "b1.winged_animal_info()\n",
        "```\n",
        "```\n",
        "Output\n",
        "\n",
        "Mammals can give direct birth.\n",
        "Winged animals can flap.\n",
        "```\n",
        "19. Explain the purpose of `__str__` and `__repr__`  methods in Python ?\n",
        "  - ` __str__`(self): This method is called when the str() function is used on an instance of the class. It should return a string representation of the object.\n",
        "  -  `__repr__`(self): This method is called when the repr() function is used on an instance of the class.\n",
        "  Itshould return an unambiguous string representation of the object, which can be used to recreate the object.\n",
        "\n",
        "```\n",
        "class Book:\n",
        "    def __init__(self, title, author):\n",
        "        self.title = title\n",
        "        self.author = author\n",
        "\n",
        "    def __str__(self):\n",
        "        return f\"'{self.title}' by {self.author}\"\n",
        "\n",
        "    def __repr__(self):\n",
        "        return f\"Book('{self.title}', '{self.author}')\"\n",
        "\n",
        "book = Book(\"The Lord of the Rings\", \"J.R.R. Tolkien\")\n",
        "\n",
        "print(str(book)) # Output: 'The Lord of the Rings' by J.R.R. Tolkien\n",
        "print(repr(book)) # Output: Book('The Lord of the Rings', 'J.R.R. Tolkien')\n",
        "```\n",
        "20. What is the significance of the `super()` function in Python?\n",
        "  - The super() function in Python is used to call methods from a parent class within a child class. It plays a crucial role in inheritance, allowing subclasses to extend and modify the behavior of their superclasses while still utilizing the parent's functionality.\n",
        "\n",
        "21. What is the significance of the `__del__` method in Python?\n",
        "  - The `__del__` method is a special method in Python that is called when an object is about to be destroyed. It allows you to define specific cleanup actions that should be taken when an object is garbage collected. This method can be particularly useful for releasing external resources such as file handles, network connections, or database connections that the object may hold.\n",
        "\n",
        "22. What is the difference between @staticmethod and @classmethod in Python?\n",
        "  - The key differences between @staticmethod and @classmethod in Python lie in their binding and the arguments they receive:\n",
        "  - @staticmethod:\n",
        "It is not bound to the class or the instance.\n",
        "It doesn't receive any implicit arguments (neither self nor cls).\n",
        "It behaves like a regular function, but is defined within the class for logical grouping.\n",
        "It cannot access or modify the class state.\n",
        "  - @classmethod:\n",
        "It is bound to the class, not the instance.\n",
        "It receives the class itself as the first argument (cls).\n",
        "It can access and modify class-level attributes.\n",
        "It is often used for factory methods or operations that involve the class as a whole.\n",
        "  \n",
        "  \n",
        "23. How does polymorphism work in Python with inheritance?\n",
        "  - Polymorphism, meaning \"many forms,\" enables objects of different classes to respond to the same method call in their own specific ways. In Python, inheritance plays a crucial role in achieving polymorphism through a mechanism called method overriding.\n",
        "\n",
        "```\n",
        "  class Animal:\n",
        "    def speak(self):\n",
        "        return \"Generic animal sound\"\n",
        "\n",
        "class Dog(Animal):\n",
        "    def speak(self):\n",
        "        return \"Woof!\"\n",
        "\n",
        "class Cat(Animal):\n",
        "    def speak(self):\n",
        "        return \"Meow!\"\n",
        "\n",
        "def animal_sound(animal):\n",
        "    return animal.speak()\n",
        "\n",
        "dog = Dog()\n",
        "cat = Cat()\n",
        "print(animal_sound(dog))\n",
        "print(animal_sound(cat))\n",
        "```\n",
        "\n",
        "24. What is method chaining in Python OOP?\n",
        "  - Method chaining in Python is a programming technique used in object-oriented programming where multiple methods are called sequentially on the same object in a single line of code. This is achieved by having each method return the object instance (self) after performing its operation. This allows for a more concise and readable way to perform a series of actions on an object.\n",
        "\n",
        "```\n",
        "class Calculator:\n",
        "    def __init__(self, value=0):\n",
        "        self.value = value\n",
        "\n",
        "    def add(self, num):\n",
        "        self.value += num\n",
        "        return self\n",
        "\n",
        "    def subtract(self, num):\n",
        "        self.value -= num\n",
        "        return self\n",
        "\n",
        "    def multiply(self, num):\n",
        "        self.value *= num\n",
        "        return self\n",
        "\n",
        "    def get_value(self):\n",
        "        return self.value\n",
        "\n",
        "calc = Calculator(10)\n",
        "result = calc.add(5).subtract(3).multiply(2).get_value()\n",
        "print(result)  # Output: 24\n",
        "```\n",
        "25. What is the purpose of the` __call__` method in Python?\n",
        "  - The __call__ method in Python enables instances of a class to be called like regular functions. When a class defines this method, its instances become callable objects. The __call__ method is automatically executed when the instance is \"called\" using parentheses.\n",
        "\n",
        "```\n",
        "class Demo:\n",
        "    def __call__(self):\n",
        "        print(\"Called\")\n",
        "\n",
        "d = Demo()\n",
        "d()  # Output: Called\n",
        "```\n",
        "\n",
        "\n",
        "         \n",
        "\n",
        "\n",
        "\n",
        "\n",
        "\n",
        "               \n",
        "\n",
        "\n",
        "      \n",
        "\n"
      ],
      "metadata": {
        "id": "rXCgoZ99ffb5"
      }
    },
    {
      "cell_type": "markdown",
      "source": [
        "# Practical Questions"
      ],
      "metadata": {
        "id": "CC5DZ8VUfBlH"
      }
    },
    {
      "cell_type": "markdown",
      "source": [
        "1. Create a parent class Animal with a method speak() that prints a generic message. Create a child class Dog\n",
        "that overrides the speak() method to print \"Bark!\"."
      ],
      "metadata": {
        "id": "MRJAmO6ce3WU"
      }
    },
    {
      "cell_type": "code",
      "execution_count": 1,
      "metadata": {
        "id": "C7B179iCeTCs",
        "colab": {
          "base_uri": "https://localhost:8080/"
        },
        "outputId": "c85f7c5c-d72d-4b84-ab28-614b13f33fd0"
      },
      "outputs": [
        {
          "output_type": "stream",
          "name": "stdout",
          "text": [
            "Bark!\n"
          ]
        }
      ],
      "source": [
        "class Animal:\n",
        "    def speak(self):\n",
        "        print(\"Animal speaks\")\n",
        "\n",
        "class Dog(Animal):\n",
        "    def speak(self):\n",
        "        print(\"Bark!\")\n",
        "dog = Dog()\n",
        "dog.speak()  # Calls the speak method from the Animal class\n",
        ""
      ]
    },
    {
      "cell_type": "markdown",
      "source": [
        "2. Write a program to create an abstract class Shape with a method area(). Derive classes Circle and Rectangle\n",
        "from it and implement the area() method in both."
      ],
      "metadata": {
        "id": "aizUf0GnfvzL"
      }
    },
    {
      "cell_type": "code",
      "source": [
        "from abc import ABC, abstractmethod\n",
        "import math\n",
        "\n",
        "# Abstract class\n",
        "class Shape(ABC):\n",
        "    @abstractmethod\n",
        "    def area(self):\n",
        "        pass\n",
        "\n",
        "# Derived class: Circle\n",
        "class Circle(Shape):\n",
        "    def __init__(self, radius):\n",
        "        self.radius = radius\n",
        "\n",
        "    def area(self):\n",
        "        return math.pi * self.radius * self.radius\n",
        "\n",
        "# Derived class: Rectangle\n",
        "class Rectangle(Shape):\n",
        "    def __init__(self, length, width):\n",
        "        self.length = length\n",
        "        self.width = width\n",
        "\n",
        "    def area(self):\n",
        "        return self.length * self.width\n",
        "\n",
        "# --- Calling the classes ---\n",
        "circle = Circle(5)\n",
        "rectangle = Rectangle(4, 6)\n",
        "\n",
        "print(\"Area of Circle:\", circle.area())\n",
        "print(\"Area of Rectangle:\", rectangle.area())\n",
        "\n"
      ],
      "metadata": {
        "colab": {
          "base_uri": "https://localhost:8080/"
        },
        "id": "dlVdUqZZfxAr",
        "outputId": "cba8c2c3-7187-4b4c-91d5-ad8d750c005d"
      },
      "execution_count": 6,
      "outputs": [
        {
          "output_type": "stream",
          "name": "stdout",
          "text": [
            "Area of Circle: 78.53981633974483\n",
            "Area of Rectangle: 24\n"
          ]
        }
      ]
    },
    {
      "cell_type": "markdown",
      "source": [
        "3. Implement a multi-level inheritance scenario where a class Vehicle has an attribute type. Derive a class Car\n",
        "and further derive a class ElectricCar that adds a battery attribute."
      ],
      "metadata": {
        "id": "wql7ICrvgIbf"
      }
    },
    {
      "cell_type": "code",
      "source": [
        "# Base class\n",
        "class Vehicle:\n",
        "    def __init__(self, type):\n",
        "        self.type = type\n",
        "\n",
        "    def show_type(self):\n",
        "        print(\"Vehicle Type:\", self.type)\n",
        "\n",
        "# Derived class from Vehicle\n",
        "class Car(Vehicle):\n",
        "    def __init__(self, type, brand):\n",
        "        super().__init__(type)\n",
        "        self.brand = brand\n",
        "\n",
        "    def show_brand(self):\n",
        "        print(\"Car Brand:\", self.brand)\n",
        "\n",
        "# Further derived class from Car\n",
        "class ElectricCar(Car):\n",
        "    def __init__(self, type, brand, battery):\n",
        "        super().__init__(type, brand)\n",
        "        self.battery = battery\n",
        "\n",
        "    def show_battery(self):\n",
        "        print(\"Battery Capacity:\", self.battery)\n",
        "\n",
        "# --- Calling the classes ---\n",
        "e_car = ElectricCar(\"Four Wheeler\", \"Tesla\", \"100 kWh\")\n",
        "\n",
        "e_car.show_type()      # From Vehicle\n",
        "e_car.show_brand()     # From Car\n",
        "e_car.show_battery()   # From ElectricCar\n"
      ],
      "metadata": {
        "colab": {
          "base_uri": "https://localhost:8080/"
        },
        "id": "F5l8xa3agPX6",
        "outputId": "e45f0f47-8a6f-41ba-ed02-96ff569dc31b"
      },
      "execution_count": 5,
      "outputs": [
        {
          "output_type": "stream",
          "name": "stdout",
          "text": [
            "Vehicle Type: Four Wheeler\n",
            "Car Brand: Tesla\n",
            "Battery Capacity: 100 kWh\n"
          ]
        }
      ]
    },
    {
      "cell_type": "markdown",
      "source": [
        "4. Demonstrate polymorphism by creating a base class Bird with a method fly(). Create two derived classes\n",
        "Sparrow and Penguin that override the fly() method.\n"
      ],
      "metadata": {
        "id": "ra93val0gVxO"
      }
    },
    {
      "cell_type": "code",
      "source": [
        "# Base class\n",
        "class Bird:\n",
        "    def fly(self):\n",
        "        print(\"Bird is flying...\")\n",
        "\n",
        "# Derived class: Sparrow\n",
        "class Sparrow(Bird):\n",
        "    def fly(self):\n",
        "        print(\"Sparrow can fly high in the sky!\")\n",
        "\n",
        "# Derived class: Penguin\n",
        "class Penguin(Bird):\n",
        "    def fly(self):\n",
        "        print(\"Penguin cannot fly, it swims instead!\")\n",
        "\n",
        "# --- Polymorphic behavior ---\n",
        "def bird_fly_test(bird):\n",
        "    bird.fly()\n",
        "\n",
        "# Create objects\n",
        "sparrow = Sparrow()\n",
        "penguin = Penguin()\n",
        "\n",
        "# Call using polymorphism\n",
        "bird_fly_test(sparrow)\n",
        "bird_fly_test(penguin)\n"
      ],
      "metadata": {
        "colab": {
          "base_uri": "https://localhost:8080/"
        },
        "id": "q8--S5KKguBu",
        "outputId": "123d6da3-2cc7-4421-b3ee-5a4433c9cc4c"
      },
      "execution_count": 4,
      "outputs": [
        {
          "output_type": "stream",
          "name": "stdout",
          "text": [
            "Sparrow can fly high in the sky!\n",
            "Penguin cannot fly, it swims instead!\n"
          ]
        }
      ]
    },
    {
      "cell_type": "markdown",
      "source": [
        "5. Write a program to demonstrate encapsulation by creating a class BankAccount with private attributes\n",
        "balance and methods to deposit, withdraw, and check balance."
      ],
      "metadata": {
        "id": "vtit92rpgvjs"
      }
    },
    {
      "cell_type": "code",
      "source": [
        "class BankAccount:\n",
        "    def __init__(self, initial_balance=0):\n",
        "        self.__balance = initial_balance  # Private attribute\n",
        "\n",
        "    def deposit(self, amount):\n",
        "        if amount > 0:\n",
        "            self.__balance += amount\n",
        "            print(f\"Deposited: ₹{amount}\")\n",
        "        else:\n",
        "            print(\"Deposit amount must be positive.\")\n",
        "\n",
        "    def withdraw(self, amount):\n",
        "        if amount <= self.__balance:\n",
        "            self.__balance -= amount\n",
        "            print(f\"Withdrawn: ₹{amount}\")\n",
        "        else:\n",
        "            print(\"Insufficient balance.\")\n",
        "\n",
        "    def check_balance(self):\n",
        "        print(f\"Current Balance: ₹{self.__balance}\")\n",
        "\n",
        "# --- Calling the class ---\n",
        "account = BankAccount(1000)\n",
        "\n",
        "account.deposit(500)\n",
        "account.withdraw(300)\n",
        "account.check_balance()\n",
        "\n",
        "# Trying to access private variable (not allowed directly)\n",
        "# print(account.__balance)  # This will raise an AttributeError\n"
      ],
      "metadata": {
        "colab": {
          "base_uri": "https://localhost:8080/"
        },
        "id": "caFLb3Jrg3rf",
        "outputId": "c1341260-616f-4777-ab62-ae01de3b52be"
      },
      "execution_count": 3,
      "outputs": [
        {
          "output_type": "stream",
          "name": "stdout",
          "text": [
            "Deposited: ₹500\n",
            "Withdrawn: ₹300\n",
            "Current Balance: ₹1200\n"
          ]
        }
      ]
    },
    {
      "cell_type": "markdown",
      "source": [
        "6. Demonstrate runtime polymorphism using a method play() in a base class Instrument. Derive classes Guitar\n",
        "and Piano that implement their own version of play()."
      ],
      "metadata": {
        "id": "huT7jn3Lg-34"
      }
    },
    {
      "cell_type": "code",
      "source": [
        "# Base class\n",
        "class Instrument:\n",
        "    def play(self):\n",
        "        print(\"Instrument is playing...\")\n",
        "\n",
        "# Derived class: Guitar\n",
        "class Guitar(Instrument):\n",
        "    def play(self):\n",
        "        print(\"Guitar is strumming a melody!\")\n",
        "\n",
        "# Derived class: Piano\n",
        "class Piano(Instrument):\n",
        "    def play(self):\n",
        "        print(\"Piano is playing beautiful chords!\")\n",
        "\n",
        "# --- Runtime polymorphism ---\n",
        "def perform(instrument: Instrument):\n",
        "    instrument.play()\n",
        "\n",
        "# Create objects\n",
        "guitar = Guitar()\n",
        "piano = Piano()\n",
        "\n",
        "# Call using base class reference\n",
        "perform(guitar)\n",
        "perform(piano)\n"
      ],
      "metadata": {
        "colab": {
          "base_uri": "https://localhost:8080/"
        },
        "id": "xLN2vKeyhETK",
        "outputId": "6c6788b9-f13d-4a9c-a8b6-4b0e99e61d0d"
      },
      "execution_count": 2,
      "outputs": [
        {
          "output_type": "stream",
          "name": "stdout",
          "text": [
            "Guitar is strumming a melody!\n",
            "Piano is playing beautiful chords!\n"
          ]
        }
      ]
    },
    {
      "cell_type": "markdown",
      "source": [
        "7. Create a class MathOperations with a class method add_numbers() to add two numbers and a static\n",
        "method subtract_numbers() to subtract two numbers."
      ],
      "metadata": {
        "id": "E5Kkm0nchcIu"
      }
    },
    {
      "cell_type": "code",
      "source": [
        "class MathOperations:\n",
        "    @classmethod\n",
        "    def add_numbers(cls, a, b):\n",
        "        return a + b\n",
        "\n",
        "    @staticmethod\n",
        "    def subtract_numbers(a, b):\n",
        "        return a - b\n",
        "\n",
        "# --- Calling the methods ---\n",
        "sum_result = MathOperations.add_numbers(10, 5)\n",
        "diff_result = MathOperations.subtract_numbers(10, 5)\n",
        "\n",
        "print(\"Sum:\", sum_result)\n",
        "print(\"Difference:\", diff_result)\n"
      ],
      "metadata": {
        "colab": {
          "base_uri": "https://localhost:8080/"
        },
        "id": "Fgjj5E1VhgrK",
        "outputId": "46c16906-528d-4a33-87db-68da54957cc6"
      },
      "execution_count": 7,
      "outputs": [
        {
          "output_type": "stream",
          "name": "stdout",
          "text": [
            "Sum: 15\n",
            "Difference: 5\n"
          ]
        }
      ]
    },
    {
      "cell_type": "markdown",
      "source": [
        "8. Implement a class Person with a class method to count the total number of persons created."
      ],
      "metadata": {
        "id": "ycU7z_3ehlpq"
      }
    },
    {
      "cell_type": "code",
      "source": [
        "class Person:\n",
        "    count = 0  # Class variable to keep track of instances\n",
        "\n",
        "    def __init__(self, name):\n",
        "        self.name = name\n",
        "        Person.count += 1\n",
        "\n",
        "    @classmethod\n",
        "    def get_person_count(cls):\n",
        "        return cls.count\n",
        "\n",
        "# --- Creating Person objects ---\n",
        "p1 = Person(\"Alice\")\n",
        "p2 = Person(\"Bob\")\n",
        "p3 = Person(\"Charlie\")\n",
        "\n",
        "# --- Calling class method ---\n",
        "print(\"Total Persons Created:\", Person.get_person_count())\n"
      ],
      "metadata": {
        "colab": {
          "base_uri": "https://localhost:8080/"
        },
        "id": "ZqDFWzbXho5l",
        "outputId": "659e0c7e-1476-4224-a695-9b06fcf53297"
      },
      "execution_count": 8,
      "outputs": [
        {
          "output_type": "stream",
          "name": "stdout",
          "text": [
            "Total Persons Created: 3\n"
          ]
        }
      ]
    },
    {
      "cell_type": "markdown",
      "source": [
        "9. Write a class Fraction with attributes numerator and denominator. Override the str method to display the\n",
        "fraction as \"numerator/denominator\"."
      ],
      "metadata": {
        "id": "XRPFQZCzhv03"
      }
    },
    {
      "cell_type": "code",
      "source": [
        "class Fraction:\n",
        "    def __init__(self, numerator, denominator):\n",
        "        self.numerator = numerator\n",
        "        self.denominator = denominator\n",
        "\n",
        "    def __str__(self):\n",
        "        return f\"{self.numerator}/{self.denominator}\"\n",
        "\n",
        "# --- Creating objects and displaying them ---\n",
        "f1 = Fraction(3, 4)\n",
        "f2 = Fraction(7, 5)\n",
        "\n",
        "print(\"First Fraction:\", f1)\n",
        "print(\"Second Fraction:\", f2)\n"
      ],
      "metadata": {
        "colab": {
          "base_uri": "https://localhost:8080/"
        },
        "id": "yNsh_iydh0nb",
        "outputId": "9b319257-2cf6-4dad-a0e4-35431c2fb238"
      },
      "execution_count": 9,
      "outputs": [
        {
          "output_type": "stream",
          "name": "stdout",
          "text": [
            "First Fraction: 3/4\n",
            "Second Fraction: 7/5\n"
          ]
        }
      ]
    },
    {
      "cell_type": "markdown",
      "source": [
        "10. Demonstrate operator overloading by creating a class Vector and overriding the add method to add two\n",
        "vectors."
      ],
      "metadata": {
        "id": "BBqqbKSnh61j"
      }
    },
    {
      "cell_type": "code",
      "source": [
        "class Vector:\n",
        "    def __init__(self, x, y):\n",
        "        self.x = x\n",
        "        self.y = y\n",
        "\n",
        "    def __add__(self, other):\n",
        "        # Add corresponding x and y components\n",
        "        return Vector(self.x + other.x, self.y + other.y)\n",
        "\n",
        "    def __str__(self):\n",
        "        return f\"Vector({self.x}, {self.y})\"\n",
        "\n",
        "# --- Creating and adding vectors ---\n",
        "v1 = Vector(2, 3)\n",
        "v2 = Vector(4, 5)\n",
        "\n",
        "v3 = v1 + v2  # This uses __add__\n",
        "\n",
        "print(\"v1:\", v1)\n",
        "print(\"v2:\", v2)\n",
        "print(\"v1 + v2 =\", v3)\n"
      ],
      "metadata": {
        "colab": {
          "base_uri": "https://localhost:8080/"
        },
        "id": "vHnbo12sh9iM",
        "outputId": "99fe1b6a-da1a-46ce-f781-77ed8d81bcf9"
      },
      "execution_count": 10,
      "outputs": [
        {
          "output_type": "stream",
          "name": "stdout",
          "text": [
            "v1: Vector(2, 3)\n",
            "v2: Vector(4, 5)\n",
            "v1 + v2 = Vector(6, 8)\n"
          ]
        }
      ]
    },
    {
      "cell_type": "markdown",
      "source": [
        "11. Create a class Person with attributes name and age. Add a method greet() that prints \"Hello, my name is\n",
        "{name} and I am {age} years old."
      ],
      "metadata": {
        "id": "6ZrAUGHpiGuu"
      }
    },
    {
      "cell_type": "code",
      "source": [
        "class Person:\n",
        "    def __init__(self, name, age):\n",
        "        self.name = name\n",
        "        self.age = age\n",
        "\n",
        "    def greet(self):\n",
        "        print(f\"Hello, my name is {self.name} and I am {self.age} years old.\")\n",
        "\n",
        "# --- Creating a person and calling greet ---\n",
        "p1 = Person(\"Harsh\", 25)\n",
        "p1.greet()\n"
      ],
      "metadata": {
        "colab": {
          "base_uri": "https://localhost:8080/"
        },
        "id": "y_mCkeEgiORr",
        "outputId": "9d6499b7-a88e-4d7f-902f-25899a2887f6"
      },
      "execution_count": 12,
      "outputs": [
        {
          "output_type": "stream",
          "name": "stdout",
          "text": [
            "Hello, my name is Harsh and I am 25 years old.\n"
          ]
        }
      ]
    },
    {
      "cell_type": "markdown",
      "source": [
        "12. Implement a class Student with attributes name and grades. Create a method average_grade() to compute\n",
        "the average of the grades."
      ],
      "metadata": {
        "id": "YcI4kT6uiZ0o"
      }
    },
    {
      "cell_type": "code",
      "source": [
        "class Student:\n",
        "    def __init__(self, name, grades):\n",
        "        self.name = name\n",
        "        self.grades = grades\n",
        "\n",
        "    def average_grade(self):\n",
        "        return sum(self.grades) / len(self.grades) if self.grades else 0\n",
        "\n",
        "# --- Creating a student and calculating average grade ---\n",
        "s1 = Student(\"Alice\", [85, 90, 78, 92])\n",
        "s2 = Student(\"Bob\", [88, 76, 95, 81])\n",
        "\n",
        "print(f\"{s1.name}'s average grade: {s1.average_grade()}\")\n",
        "print(f\"{s2.name}'s average grade: {s2.average_grade()}\")\n"
      ],
      "metadata": {
        "colab": {
          "base_uri": "https://localhost:8080/"
        },
        "id": "Bz4JqsBHifcq",
        "outputId": "67de3bee-59ea-4625-cc95-34e5b052e03c"
      },
      "execution_count": 13,
      "outputs": [
        {
          "output_type": "stream",
          "name": "stdout",
          "text": [
            "Alice's average grade: 86.25\n",
            "Bob's average grade: 85.0\n"
          ]
        }
      ]
    },
    {
      "cell_type": "markdown",
      "source": [
        "13. Create a class Rectangle with methods set_dimensions() to set the dimensions and area() to calculate the\n",
        "area."
      ],
      "metadata": {
        "id": "EPBCkjvcin6C"
      }
    },
    {
      "cell_type": "code",
      "source": [
        "class Rectangle:\n",
        "    def __init__(self):\n",
        "        self.length = 0\n",
        "        self.width = 0\n",
        "\n",
        "    def set_dimensions(self, length, width):\n",
        "        self.length = length\n",
        "        self.width = width\n",
        "\n",
        "    def area(self):\n",
        "        return self.length * self.width\n",
        "\n",
        "# --- Creating a rectangle and calculating its area ---\n",
        "rect = Rectangle()\n",
        "rect.set_dimensions(5, 3)\n",
        "print(f\"Area of the rectangle: {rect.area()}\")\n"
      ],
      "metadata": {
        "colab": {
          "base_uri": "https://localhost:8080/"
        },
        "id": "0xRuYrRtis5M",
        "outputId": "9e498471-59fa-4512-f612-68e07fa0653b"
      },
      "execution_count": 14,
      "outputs": [
        {
          "output_type": "stream",
          "name": "stdout",
          "text": [
            "Area of the rectangle: 15\n"
          ]
        }
      ]
    },
    {
      "cell_type": "markdown",
      "source": [
        "14. Create a class Employee with a method calculate_salary() that computes the salary based on hours worked\n",
        "and hourly rate. Create a derived class Manager that adds a bonus to the salary."
      ],
      "metadata": {
        "id": "Fwu_YPodi2RA"
      }
    },
    {
      "cell_type": "code",
      "source": [
        "class Employee:\n",
        "    def __init__(self, name, hours_worked, hourly_rate):\n",
        "        self.name = name\n",
        "        self.hours_worked = hours_worked\n",
        "        self.hourly_rate = hourly_rate\n",
        "\n",
        "    def calculate_salary(self):\n",
        "        return self.hours_worked * self.hourly_rate\n",
        "\n",
        "# Derived class Manager\n",
        "class Manager(Employee):\n",
        "    def __init__(self, name, hours_worked, hourly_rate, bonus):\n",
        "        super().__init__(name, hours_worked, hourly_rate)\n",
        "        self.bonus = bonus\n",
        "\n",
        "    def calculate_salary(self):\n",
        "        base_salary = super().calculate_salary()\n",
        "        return base_salary + self.bonus\n",
        "\n",
        "# --- Creating Employee and Manager objects ---\n",
        "employee = Employee(\"John\", 40, 20)\n",
        "manager = Manager(\"Alice\", 40, 30, 500)\n",
        "\n",
        "print(f\"{employee.name}'s Salary: ₹{employee.calculate_salary()}\")\n",
        "print(f\"{manager.name}'s Salary (with bonus): ₹{manager.calculate_salary()}\")\n"
      ],
      "metadata": {
        "colab": {
          "base_uri": "https://localhost:8080/"
        },
        "id": "5iFlziXhi5u_",
        "outputId": "bb34608a-fe94-4dcf-8b92-0b8a0cffdb39"
      },
      "execution_count": 15,
      "outputs": [
        {
          "output_type": "stream",
          "name": "stdout",
          "text": [
            "John's Salary: ₹800\n",
            "Alice's Salary (with bonus): ₹1700\n"
          ]
        }
      ]
    },
    {
      "cell_type": "markdown",
      "source": [
        "15. Create a class Product with attributes name, price, and quantity. Implement a method total_price() that\n",
        "calculates the total price of the product."
      ],
      "metadata": {
        "id": "QkC-Ha4ni6cB"
      }
    },
    {
      "cell_type": "code",
      "source": [
        "class Product:\n",
        "    def __init__(self, name, price, quantity):\n",
        "        self.name = name\n",
        "        self.price = price\n",
        "        self.quantity = quantity\n",
        "\n",
        "    def total_price(self):\n",
        "        return self.price * self.quantity\n",
        "\n",
        "# --- Creating a product and calculating total price ---\n",
        "product = Product(\"Laptop\", 50000, 3)\n",
        "print(f\"Total price of {product.name}: ₹{product.total_price()}\")\n"
      ],
      "metadata": {
        "colab": {
          "base_uri": "https://localhost:8080/"
        },
        "id": "2otQWE8sjLwj",
        "outputId": "c74ef914-9045-4746-dfbf-b0c539c105ff"
      },
      "execution_count": 16,
      "outputs": [
        {
          "output_type": "stream",
          "name": "stdout",
          "text": [
            "Total price of Laptop: ₹150000\n"
          ]
        }
      ]
    },
    {
      "cell_type": "markdown",
      "source": [
        "16. Create a class Animal with an abstract method sound(). Create two derived classes Cow and Sheep that\n",
        "implement the sound() method."
      ],
      "metadata": {
        "id": "B2pmEMn8jTxn"
      }
    },
    {
      "cell_type": "code",
      "source": [
        "from abc import ABC, abstractmethod\n",
        "\n",
        "# Abstract class\n",
        "class Animal(ABC):\n",
        "    @abstractmethod\n",
        "    def sound(self):\n",
        "        pass\n",
        "\n",
        "# Derived class: Cow\n",
        "class Cow(Animal):\n",
        "    def sound(self):\n",
        "        return \"Moo\"\n",
        "\n",
        "# Derived class: Sheep\n",
        "class Sheep(Animal):\n",
        "    def sound(self):\n",
        "        return \"Baa\"\n",
        "\n",
        "# --- Creating objects and calling sound() ---\n",
        "cow = Cow()\n",
        "sheep = Sheep()\n",
        "\n",
        "print(f\"Cow makes sound: {cow.sound()}\")\n",
        "print(f\"Sheep makes sound: {sheep.sound()}\")\n"
      ],
      "metadata": {
        "colab": {
          "base_uri": "https://localhost:8080/"
        },
        "id": "PSmOCLDMjYVC",
        "outputId": "bf54bca6-a4ef-4f19-9329-367fc5c117d8"
      },
      "execution_count": 17,
      "outputs": [
        {
          "output_type": "stream",
          "name": "stdout",
          "text": [
            "Cow makes sound: Moo\n",
            "Sheep makes sound: Baa\n"
          ]
        }
      ]
    },
    {
      "cell_type": "markdown",
      "source": [
        "17. Create a class Book with attributes title, author, and year_published. Add a method get_book_info() that\n",
        "returns a formatted string with the book's details."
      ],
      "metadata": {
        "id": "VD0oi6Lujd87"
      }
    },
    {
      "cell_type": "code",
      "source": [
        "class Book:\n",
        "    def __init__(self, title, author, year_published):\n",
        "        self.title = title\n",
        "        self.author = author\n",
        "        self.year_published = year_published\n",
        "\n",
        "    def get_book_info(self):\n",
        "        return f\"'{self.title}' by {self.author}, published in {self.year_published}\"\n",
        "\n",
        "# --- Creating a book and displaying its information ---\n",
        "book1 = Book(\"1984\", \"George Orwell\", 1949)\n",
        "book2 = Book(\"To Kill a Mockingbird\", \"Harper Lee\", 1960)\n",
        "\n",
        "print(book1.get_book_info())\n",
        "print(book2.get_book_info())\n"
      ],
      "metadata": {
        "colab": {
          "base_uri": "https://localhost:8080/"
        },
        "id": "YvHBzqFGji7d",
        "outputId": "4280c2b0-b09b-4861-cae4-0a100265b719"
      },
      "execution_count": 18,
      "outputs": [
        {
          "output_type": "stream",
          "name": "stdout",
          "text": [
            "'1984' by George Orwell, published in 1949\n",
            "'To Kill a Mockingbird' by Harper Lee, published in 1960\n"
          ]
        }
      ]
    },
    {
      "cell_type": "markdown",
      "source": [
        "18. Create a class House with attributes address and price. Create a derived class Mansion that adds an\n",
        "attribute number_of_rooms."
      ],
      "metadata": {
        "id": "EsIVFZdjjpDc"
      }
    },
    {
      "cell_type": "code",
      "source": [
        "class House:\n",
        "    def __init__(self, address, price):\n",
        "        self.address = address\n",
        "        self.price = price\n",
        "\n",
        "    def get_house_info(self):\n",
        "        return f\"Address: {self.address}, Price: ₹{self.price}\"\n",
        "\n",
        "# Derived class: Mansion\n",
        "class Mansion(House):\n",
        "    def __init__(self, address, price, number_of_rooms):\n",
        "        super().__init__(address, price)\n",
        "        self.number_of_rooms = number_of_rooms\n",
        "\n",
        "    def get_mansion_info(self):\n",
        "        return f\"{self.get_house_info()}, Rooms: {self.number_of_rooms}\"\n",
        "\n",
        "# --- Creating House and Mansion objects ---\n",
        "house = House(\"123 Main St, City\", 5000000)\n",
        "mansion = Mansion(\"456 Luxury Blvd, Royal City\", 20000000, 10)\n",
        "\n",
        "print(house.get_house_info())\n",
        "print(mansion.get_mansion_info())\n"
      ],
      "metadata": {
        "colab": {
          "base_uri": "https://localhost:8080/"
        },
        "id": "or_ZaMLEjtJj",
        "outputId": "ba8c6c10-896e-40a5-de6c-ca8dfbb1edb0"
      },
      "execution_count": 19,
      "outputs": [
        {
          "output_type": "stream",
          "name": "stdout",
          "text": [
            "Address: 123 Main St, City, Price: ₹5000000\n",
            "Address: 456 Luxury Blvd, Royal City, Price: ₹20000000, Rooms: 10\n"
          ]
        }
      ]
    }
  ]
}